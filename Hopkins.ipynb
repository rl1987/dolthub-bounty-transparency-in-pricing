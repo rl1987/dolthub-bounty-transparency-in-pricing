{
 "cells": [
  {
   "cell_type": "code",
   "execution_count": null,
   "id": "986bb71a-0558-4686-9f06-a3ee52373d96",
   "metadata": {},
   "outputs": [],
   "source": [
    "import subprocess\n",
    "\n",
    "import pandas as pd"
   ]
  },
  {
   "cell_type": "code",
   "execution_count": null,
   "id": "29f82d03-5168-43c3-80d0-6c491f479fb0",
   "metadata": {},
   "outputs": [],
   "source": [
    "TARGET_COLUMNS = [\n",
    "    \"hospital_id\",\n",
    "    #'row_id',\n",
    "    \"line_type\",\n",
    "    \"description\",\n",
    "    \"rev_code\",\n",
    "    \"local_code\",\n",
    "    \"code\",\n",
    "    \"ms_drg\",\n",
    "    \"apr_drg\",\n",
    "    \"eapg\",\n",
    "    \"hcpcs_cpt\",\n",
    "    \"modifiers\",\n",
    "    \"alt_hcpcs_cpt\",\n",
    "    \"thru\",\n",
    "    \"apc\",\n",
    "    \"icd\",\n",
    "    \"ndc\",\n",
    "    \"drug_hcpcs_multiplier\",\n",
    "    \"drug_quantity\",\n",
    "    \"drug_unit_of_measurement\",\n",
    "    \"drug_type_of_measurement\",\n",
    "    \"billing_class\",\n",
    "    \"setting\",\n",
    "    \"rate_category\",\n",
    "    \"payer_name\",\n",
    "    \"plan_name\",\n",
    "    \"standard_charge\",\n",
    "    \"standard_charge_percent\",\n",
    "    \"contracting_method\",\n",
    "    \"additional_generic_notes\",\n",
    "    \"additional_payer_specific_notes\",\n",
    "]"
   ]
  },
  {
   "cell_type": "code",
   "execution_count": null,
   "id": "4441b5e1-12af-4283-a57e-b5c6ee598819",
   "metadata": {},
   "outputs": [],
   "source": [
    "TRANSPARENCY_PAGE = \"https://www.hopkinsmedicine.org/patient_care/patients-visitors/billing-insurance/pay-bill/charges-fees.html\"\n",
    "ccn = \"210048\"\n",
    "url = \"https://jhm-web-assets.s3.amazonaws.com/hopkinsmedicine/prod/charge-fees/522093120_HowardCountyGeneralHospital_standardcharges.csv\""
   ]
  }
 ],
 "metadata": {
  "kernelspec": {
   "display_name": "Python 3 (ipykernel)",
   "language": "python",
   "name": "python3"
  },
  "language_info": {
   "codemirror_mode": {
    "name": "ipython",
    "version": 3
   },
   "file_extension": ".py",
   "mimetype": "text/x-python",
   "name": "python",
   "nbconvert_exporter": "python",
   "pygments_lexer": "ipython3",
   "version": "3.9.2"
  }
 },
 "nbformat": 4,
 "nbformat_minor": 5
}
