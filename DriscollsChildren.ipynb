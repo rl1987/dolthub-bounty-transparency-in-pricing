{
 "cells": [
  {
   "cell_type": "code",
   "execution_count": null,
   "id": "93e9a6c0-1ea2-4edf-b9b5-9e4a72b4abac",
   "metadata": {},
   "outputs": [],
   "source": [
    "import subprocess\n",
    "\n",
    "import pandas as pd"
   ]
  },
  {
   "cell_type": "code",
   "execution_count": null,
   "id": "a786ef78-557e-42a2-9c07-a76160b0b098",
   "metadata": {},
   "outputs": [],
   "source": [
    "TARGET_COLUMNS = [\n",
    "    \"hospital_id\",\n",
    "    #'row_id',\n",
    "    \"line_type\",\n",
    "    \"description\",\n",
    "    \"rev_code\",\n",
    "    \"local_code\",\n",
    "    \"code\",\n",
    "    \"ms_drg\",\n",
    "    \"apr_drg\",\n",
    "    \"eapg\",\n",
    "    \"hcpcs_cpt\",\n",
    "    \"modifiers\",\n",
    "    \"alt_hcpcs_cpt\",\n",
    "    \"thru\",\n",
    "    \"apc\",\n",
    "    \"icd\",\n",
    "    \"ndc\",\n",
    "    \"drug_hcpcs_multiplier\",\n",
    "    \"drug_quantity\",\n",
    "    \"drug_unit_of_measurement\",\n",
    "    \"drug_type_of_measurement\",\n",
    "    \"billing_class\",\n",
    "    \"setting\",\n",
    "    \"rate_category\",\n",
    "    \"payer_name\",\n",
    "    \"plan_name\",\n",
    "    \"standard_charge\",\n",
    "    \"standard_charge_percent\",\n",
    "    \"contracting_method\",\n",
    "    \"additional_generic_notes\",\n",
    "    \"additional_payer_specific_notes\",\n",
    "]"
   ]
  },
  {
   "cell_type": "code",
   "execution_count": null,
   "id": "b4be4fcf-2b43-44ab-b7fd-3379dd543d7f",
   "metadata": {},
   "outputs": [],
   "source": [
    "TRANSPARENCY_PAGE = \"https://www.driscollchildrens.org/patients-family/services-support/patient-and-family-services/billing-financial-information/price\"\n",
    "url = \"https://www.driscollchildrens.org/sites/default/files/2023-07/74-2577746_Driscoll%20Childrens%20Hospital_standardcharges0723%20%281%29.xlsx\"\n"
   ]
  }
 ],
 "metadata": {
  "kernelspec": {
   "display_name": "Python 3 (ipykernel)",
   "language": "python",
   "name": "python3"
  },
  "language_info": {
   "codemirror_mode": {
    "name": "ipython",
    "version": 3
   },
   "file_extension": ".py",
   "mimetype": "text/x-python",
   "name": "python",
   "nbconvert_exporter": "python",
   "pygments_lexer": "ipython3",
   "version": "3.9.2"
  }
 },
 "nbformat": 4,
 "nbformat_minor": 5
}
