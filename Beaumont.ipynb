{
 "cells": [
  {
   "cell_type": "code",
   "execution_count": null,
   "id": "65f089c5-b619-4ce6-8e8d-294c08e144c7",
   "metadata": {},
   "outputs": [],
   "source": [
    "import csv\n",
    "import subprocess\n",
    "from urllib.parse import urlparse\n",
    "\n",
    "from dateutil.parser import parse as parse_datetime\n",
    "from sqlalchemy import create_engine\n",
    "import pandas as pd"
   ]
  },
  {
   "cell_type": "code",
   "execution_count": null,
   "id": "bf990638-50c8-425a-8e8e-8fa44e4ea35f",
   "metadata": {},
   "outputs": [],
   "source": [
    "TARGET_COLUMNS = [ \n",
    "    'hospital_id',\n",
    "    'line_type',\n",
    "    'description',\n",
    "    'rev_code',\n",
    "    'local_code',\n",
    "    'code',\n",
    "    'ms_drg',\n",
    "    'apr_drg',\n",
    "    'hcpcs_cpt',\n",
    "    'modifiers',\n",
    "    'thru',\n",
    "    'apc',\n",
    "    'icd',\n",
    "    'ndc',\n",
    "    'drug_hcpcs_multiplier',\n",
    "    'drug_quantity',\n",
    "    'drug_units',\n",
    "    'billing_class',\n",
    "    'setting',\n",
    "    'payer_category',\n",
    "    'payer',\n",
    "    'plan',\n",
    "    'standard_charge',\n",
    "    'standard_charge_percent',\n",
    "    'contracting_method',\n",
    "    'additional_payer_notes'\n",
    "]"
   ]
  }
 ],
 "metadata": {
  "kernelspec": {
   "display_name": "Python 3 (ipykernel)",
   "language": "python",
   "name": "python3"
  },
  "language_info": {
   "codemirror_mode": {
    "name": "ipython",
    "version": 3
   },
   "file_extension": ".py",
   "mimetype": "text/x-python",
   "name": "python",
   "nbconvert_exporter": "python",
   "pygments_lexer": "ipython3",
   "version": "3.9.2"
  }
 },
 "nbformat": 4,
 "nbformat_minor": 5
}
