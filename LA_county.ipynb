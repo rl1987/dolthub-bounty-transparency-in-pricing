{
 "cells": [
  {
   "cell_type": "code",
   "execution_count": null,
   "id": "24add5e4-2e84-45a8-9ffc-d1a3ede96688",
   "metadata": {},
   "outputs": [],
   "source": [
    "import pandas as pd\n",
    "# \"MCAL PER DIEM_MULTI-CONTRACTS\" sheet is to be skipped.\n",
    "# \"COMMERCIAL_ANTHEM BC\", \"COMMERCIAL_KAISER\" sheet are different - some initial rows will be dropped.\n",
    "# Real header starts at row 7.\n",
    "# First two sheets are shaped differently as well."
   ]
  }
 ],
 "metadata": {
  "kernelspec": {
   "display_name": "Python 3 (ipykernel)",
   "language": "python",
   "name": "python3"
  },
  "language_info": {
   "codemirror_mode": {
    "name": "ipython",
    "version": 3
   },
   "file_extension": ".py",
   "mimetype": "text/x-python",
   "name": "python",
   "nbconvert_exporter": "python",
   "pygments_lexer": "ipython3",
   "version": "3.9.2"
  }
 },
 "nbformat": 4,
 "nbformat_minor": 5
}
