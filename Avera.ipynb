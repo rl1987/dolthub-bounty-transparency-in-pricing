{
 "cells": [
  {
   "cell_type": "code",
   "execution_count": 1,
   "id": "2faaa87e-6bee-4ab1-80b5-ad6d655c38bf",
   "metadata": {},
   "outputs": [],
   "source": [
    "import pandas as pd\n",
    "# https://www.avera.org/patients-visitors/price-transparency/"
   ]
  },
  {
   "cell_type": "code",
   "execution_count": 2,
   "id": "52787760-6cc2-46d3-b023-0a45a3186397",
   "metadata": {
    "tags": []
   },
   "outputs": [],
   "source": [
    "import csv\n",
    "import subprocess\n",
    "from urllib.parse import urlparse\n",
    "import os\n",
    "\n",
    "from dateutil.parser import parse as parse_datetime\n",
    "import pandas as pd"
   ]
  },
  {
   "cell_type": "code",
   "execution_count": 3,
   "id": "6a73ae9b-dbb4-4e8d-a3db-4b3396144cc1",
   "metadata": {
    "tags": []
   },
   "outputs": [],
   "source": [
    "TARGET_COLUMNS = [ \n",
    "    'hospital_id',\n",
    "    'line_type',\n",
    "    'description',\n",
    "    'rev_code',\n",
    "    'local_code',\n",
    "    'code',\n",
    "    'ms_drg',\n",
    "    'apr_drg',\n",
    "    'hcpcs_cpt',\n",
    "    'modifiers',\n",
    "    'thru',\n",
    "    'apc',\n",
    "    'icd',\n",
    "    'ndc',\n",
    "    'drug_hcpcs_multiplier',\n",
    "    'drug_quantity',\n",
    "    'drug_units',\n",
    "    'billing_class',\n",
    "    'setting',\n",
    "    'payer_category',\n",
    "    'payer',\n",
    "    'plan',\n",
    "    'standard_charge',\n",
    "    'standard_charge_percent',\n",
    "    'contracting_method',\n",
    "    'additional_payer_notes'\n",
    "]"
   ]
  },
  {
   "cell_type": "code",
   "execution_count": 4,
   "id": "af5e36d1-2c8d-427d-bdd0-395ff351afa4",
   "metadata": {
    "tags": []
   },
   "outputs": [],
   "source": [
    "ccn = \"161321\"\n",
    "url = \"https://www.avera.org/app/files/public/887b57a5-04fc-4a68-9636-d6f0d9b2dfab/460224743_avera-merrill-pioneer_standardcharges.xlsx\"\n",
    "filename = url.split(\"/\")[-1].replace(\"%20\", \" \")\n",
    "ein = filename.split(\"_\")[0]\n",
    "ein = ein[:2] + \"-\" + ein[2:]"
   ]
  },
  {
   "cell_type": "code",
   "execution_count": 5,
   "id": "40b739ae-bfd6-4c46-9a58-5511f4d528c2",
   "metadata": {
    "tags": []
   },
   "outputs": [
    {
     "name": "stdout",
     "output_type": "stream",
     "text": [
      "https://www.avera.org/patients-visitors/price-transparency/\n",
      "460224743_avera-merrill-pioneer_standardcharges.xlsx already downloaded - skipping\n"
     ]
    }
   ],
   "source": [
    "import httpx\n",
    "import os\n",
    "\n",
    "def create_session():\n",
    "    session = httpx.Client(http2=True)\n",
    "    \n",
    "    session.headers = {\n",
    "        'authority': 'www.avera.org',\n",
    "        'accept': 'text/html,application/xhtml+xml,application/xml;q=0.9,image/avif,image/webp,image/apng,*/*;q=0.8,application/signed-exchange;v=b3;q=0.7',\n",
    "        'accept-language': 'en-GB,en-US;q=0.9,en;q=0.8',\n",
    "        'cache-control': 'no-cache',\n",
    "        'pragma': 'no-cache',\n",
    "        'sec-ch-ua': '\"Chromium\";v=\"112\", \"Google Chrome\";v=\"112\", \"Not:A-Brand\";v=\"99\"',\n",
    "        'sec-ch-ua-mobile': '?0',\n",
    "        'sec-ch-ua-platform': '\"macOS\"',\n",
    "        'sec-fetch-dest': 'document',\n",
    "        'sec-fetch-mode': 'navigate',\n",
    "        'sec-fetch-site': 'none',\n",
    "        'sec-fetch-user': '?1',\n",
    "        'upgrade-insecure-requests': '1',\n",
    "        'user-agent': 'Mozilla/5.0 (Macintosh; Intel Mac OS X 10_15_7) AppleWebKit/537.36 (KHTML, like Gecko) Chrome/112.0.0.0 Safari/537.36',\n",
    "    }\n",
    "    \n",
    "    resp = session.get(\"https://www.avera.org/patients-visitors/price-transparency/\")\n",
    "    print(resp.url)\n",
    "    \n",
    "    return session\n",
    "\n",
    "def download_file(session, url, filename):\n",
    "    if os.path.isfile(filename):\n",
    "        print(\"{} already downloaded - skipping\".format(filename))\n",
    "        return\n",
    "    \n",
    "    resp = session.get(url)\n",
    "    print(resp.url)\n",
    "    \n",
    "    out_f = open(filename, \"wb\")\n",
    "    out_f.write(resp.content)\n",
    "    out_f.close()\n",
    "    \n",
    "session = create_session()\n",
    "download_file(session, url, filename)"
   ]
  },
  {
   "cell_type": "code",
   "execution_count": null,
   "id": "fcd31129-7b9f-441e-a94c-e0525dc5fca0",
   "metadata": {
    "tags": []
   },
   "outputs": [],
   "source": [
    "df_in = pd.read_excel(filename, skiprows=1, sheet_name='CDM')\n",
    "df_in"
   ]
  },
  {
   "cell_type": "code",
   "execution_count": null,
   "id": "dffb51cf-b087-4425-97bf-4583e6932ce1",
   "metadata": {
    "tags": []
   },
   "outputs": [],
   "source": [
    "df_mid = pd.DataFrame(df_in)\n",
    "df_mid = df_mid.rename(columns={\n",
    "    'CPT': 'cpt',\n",
    "    'Charge Code': 'local_code',\n",
    "    'Description': 'description',\n",
    "    'Hcpcs': 'hcpcs',\n",
    "    'Revcode': 'rev_code'\n",
    "})\n",
    "\n",
    "columns = df_mid.columns.to_list()\n",
    "columns.pop(columns.index('Gross Charge'))\n",
    "df_mid = df_mid[columns + ['Gross Charge']]\n",
    "\n",
    "del df_mid['Facility Name']\n",
    "\n",
    "df_mid"
   ]
  },
  {
   "cell_type": "code",
   "execution_count": null,
   "id": "217191f5-7f94-4e34-ae45-eb29071f7c02",
   "metadata": {
    "tags": []
   },
   "outputs": [],
   "source": [
    "money_columns = df_mid.columns[5:]\n",
    "remaining_columns = df_mid.columns.to_list()[:5]\n",
    "df_mid = pd.melt(df_mid, id_vars=remaining_columns, var_name='payer', value_name='standard_charge')\n",
    "df_mid"
   ]
  },
  {
   "cell_type": "code",
   "execution_count": null,
   "id": "0c27a65c-3b6e-4d57-b824-ab705a4d4775",
   "metadata": {
    "tags": []
   },
   "outputs": [],
   "source": [
    "df_mid['hcpcs_cpt'] = df_mid.apply(lambda row: row['cpt'] if row['cpt'] is not None else row['hcpcs'], axis=1)\n",
    "del df_mid['cpt']\n",
    "del df_mid['hcpcs']\n",
    "df_mid['hcpcs_cpt'] = df_mid['hcpcs_cpt'].fillna('')\n",
    "df_mid"
   ]
  },
  {
   "cell_type": "code",
   "execution_count": null,
   "id": "bdfb6fcc-ae34-4c92-ba5d-24957c3eb6ea",
   "metadata": {
    "tags": []
   },
   "outputs": [],
   "source": [
    "def payer_category_from_payer(payer):\n",
    "    if payer == 'Gross Charge':\n",
    "        return 'gross'\n",
    "    elif payer == 'Discounted Cash Price':\n",
    "        return 'cash'\n",
    "    elif payer == 'Minimum Negotiated Rate':\n",
    "        return 'min'\n",
    "    elif payer == 'Maximum Negotiated Rate':\n",
    "        return 'max'\n",
    "    \n",
    "    return 'payer'\n",
    "\n",
    "df_mid['payer_category'] = df_mid['payer'].apply(payer_category_from_payer)\n",
    "df_mid"
   ]
  },
  {
   "cell_type": "code",
   "execution_count": null,
   "id": "da02b798-50de-4ed3-b6b5-ed7a0decd1b4",
   "metadata": {
    "tags": []
   },
   "outputs": [],
   "source": [
    "df_mid['hospital_id'] = ccn\n",
    "df_mid['line_type'] = None\n",
    "df_mid['rev_code'] = df_mid['rev_code'].fillna('')\n",
    "df_mid['rev_code'] = df_mid['rev_code'][:4] # 0964an\n",
    "df_mid['local_code'] = df_mid['local_code'].fillna('')\n",
    "df_mid['code'] = ''\n",
    "df_mid['ms_drg'] = ''\n",
    "df_mid['apr_drg'] = ''\n",
    "df_mid['apr_drg'] = ''\n",
    "df_mid['modifiers'] = ''\n",
    "df_mid['thru'] = None\n",
    "df_mid['apc'] = None\n",
    "df_mid['icd'] = None\n",
    "df_mid['ndc'] = ''\n",
    "df_mid['drug_hcpcs_multiplier'] = None\n",
    "df_mid['drug_quantity'] = None\n",
    "df_mid['drug_units'] = None\n",
    "df_mid['billing_class'] = 1\n",
    "df_mid['setting'] = 1\n",
    "df_mid['plan'] = ''\n",
    "df_mid['standard_charge_percent'] = None\n",
    "df_mid['contracting_method'] = None\n",
    "df_mid['additional_payer_notes'] = None\n",
    "df_mid"
   ]
  },
  {
   "cell_type": "code",
   "execution_count": null,
   "id": "8707fe6c-6c3b-4cdd-8921-01a3a2e81ee9",
   "metadata": {
    "tags": []
   },
   "outputs": [],
   "source": [
    "df_mid = df_mid.dropna(subset=['standard_charge'])\n",
    "df_mid"
   ]
  },
  {
   "cell_type": "code",
   "execution_count": null,
   "id": "4940a7ac-cdb9-4a2d-b414-ce012128404b",
   "metadata": {
    "tags": []
   },
   "outputs": [],
   "source": [
    "df_out = pd.DataFrame(df_mid[TARGET_COLUMNS])\n",
    "del df_out['apc']\n",
    "df_out"
   ]
  },
  {
   "cell_type": "code",
   "execution_count": null,
   "id": "e7f8c2bf-c3d6-4d82-8bba-4add3d87f5ce",
   "metadata": {
    "tags": []
   },
   "outputs": [],
   "source": [
    "df_out.to_csv(ccn + \".csv\", index=False, quoting=csv.QUOTE_ALL)"
   ]
  },
  {
   "cell_type": "code",
   "execution_count": null,
   "id": "57ef373d-0319-43d4-bf41-80aedb639891",
   "metadata": {},
   "outputs": [],
   "source": []
  }
 ],
 "metadata": {
  "kernelspec": {
   "display_name": "Python 3 (ipykernel)",
   "language": "python",
   "name": "python3"
  },
  "language_info": {
   "codemirror_mode": {
    "name": "ipython",
    "version": 3
   },
   "file_extension": ".py",
   "mimetype": "text/x-python",
   "name": "python",
   "nbconvert_exporter": "python",
   "pygments_lexer": "ipython3",
   "version": "3.9.2"
  }
 },
 "nbformat": 4,
 "nbformat_minor": 5
}
