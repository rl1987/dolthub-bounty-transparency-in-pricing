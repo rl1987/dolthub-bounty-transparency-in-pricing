{
 "cells": [
  {
   "cell_type": "code",
   "execution_count": null,
   "id": "0654a5e1-2541-4994-84f1-2ffbdf107a44",
   "metadata": {},
   "outputs": [],
   "source": [
    "import anticaptchaofficial\n",
    "import requests\n",
    "import pandas as pd"
   ]
  },
  {
   "cell_type": "code",
   "execution_count": null,
   "id": "84bd3b24-d51b-40f1-9fc6-7a8819e1540d",
   "metadata": {},
   "outputs": [],
   "source": []
  }
 ],
 "metadata": {
  "kernelspec": {
   "display_name": "Python 3 (ipykernel)",
   "language": "python",
   "name": "python3"
  },
  "language_info": {
   "codemirror_mode": {
    "name": "ipython",
    "version": 3
   },
   "file_extension": ".py",
   "mimetype": "text/x-python",
   "name": "python",
   "nbconvert_exporter": "python",
   "pygments_lexer": "ipython3",
   "version": "3.9.2"
  }
 },
 "nbformat": 4,
 "nbformat_minor": 5
}
