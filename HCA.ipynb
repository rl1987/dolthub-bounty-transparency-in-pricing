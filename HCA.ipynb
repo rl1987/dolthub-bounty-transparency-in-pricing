{
 "cells": [
  {
   "cell_type": "code",
   "execution_count": 42,
   "id": "9a94eba4-d7e6-468a-8e84-01909c658e5c",
   "metadata": {},
   "outputs": [],
   "source": [
    "import subprocess\n",
    "import json\n",
    "\n",
    "import pandas as pd\n",
    "import requests\n",
    "from lxml import html\n",
    "\n",
    "from helpers import derive_ein_from_filename"
   ]
  },
  {
   "cell_type": "code",
   "execution_count": 2,
   "id": "21e8064c-29c8-4023-a4dc-5ed0c046c766",
   "metadata": {},
   "outputs": [],
   "source": [
    "TARGET_COLUMNS = [\n",
    "    'hospital_id',\n",
    "    #'row_id',\n",
    "    'line_type',\n",
    "    'description',\n",
    "    'rev_code',\n",
    "    'local_code',\n",
    "    'code',\n",
    "    'ms_drg',\n",
    "    'apr_drg',\n",
    "    'eapg',\n",
    "    'hcpcs_cpt',\n",
    "    'modifiers',\n",
    "    'alt_hcpcs_cpt',\n",
    "    'thru',\n",
    "    'apc',\n",
    "    'icd',\n",
    "    'ndc',\n",
    "    'drug_hcpcs_multiplier',\n",
    "    'drug_quantity',\n",
    "    'drug_unit_of_measurement',\n",
    "    'drug_type_of_measurement',\n",
    "    'billing_class',\n",
    "    'setting',\n",
    "    'payer_category',\n",
    "    'payer_name',\n",
    "    'plan_name',\n",
    "    'standard_charge',\n",
    "    'standard_charge_percent',\n",
    "    'contracting_method',\n",
    "    'additional_generic_notes',\n",
    "    'additional_payer_specific_notes'\n",
    "]"
   ]
  },
  {
   "cell_type": "code",
   "execution_count": 3,
   "id": "30174f6e-04d9-4c8a-815c-1836b322c29d",
   "metadata": {},
   "outputs": [],
   "source": [
    "transparency_page = \"https://www.hcafloridahealthcare.com/patient-resources/patient-financial-resources/pricing-transparency-cms-required-file-of-standard-charges\""
   ]
  },
  {
   "cell_type": "code",
   "execution_count": 4,
   "id": "49da7890-1df2-4e03-9e57-77517fbfa31c",
   "metadata": {},
   "outputs": [
    {
     "data": {
      "text/plain": [
       "<Response [200]>"
      ]
     },
     "execution_count": 4,
     "metadata": {},
     "output_type": "execute_result"
    }
   ],
   "source": [
    "resp = requests.get(transparency_page)\n",
    "resp"
   ]
  },
  {
   "cell_type": "code",
   "execution_count": 34,
   "id": "fd9d9a00-d4be-4623-b6d6-2affa708db77",
   "metadata": {},
   "outputs": [
    {
     "data": {
      "text/plain": [
       "[{'locationName': 'Aventura Hospital',\n",
       "  'disclaimerId': '5313b797-5456-4bbe-be94-fbf466b137b7',\n",
       "  'pricingTransparencyLink': 'https://hcah-p-001-delivery.stylelabs.cloud/api/public/content/d5f6d5de8cc74f49b8df31456742e141?v=dda11690'},\n",
       " {'locationName': 'Bayonet Point Hospital',\n",
       "  'disclaimerId': '5313b797-5456-4bbe-be94-fbf466b137b7',\n",
       "  'pricingTransparencyLink': 'https://hcah-p-001-delivery.stylelabs.cloud/api/public/content/015a4ce09f39400aa1b1edca503cc3b1?v=0e6eac12'},\n",
       " {'locationName': 'Blake Hospital',\n",
       "  'disclaimerId': '7265234b-35ea-422f-a7ce-278db1df942f',\n",
       "  'pricingTransparencyLink': 'https://hcah-p-001-delivery.stylelabs.cloud/api/public/content/2cb8acb1103d4ca8a4ea9ea047dfa255?v=5eeddfb1'},\n",
       " {'locationName': 'Brandon Hospital',\n",
       "  'disclaimerId': '5313b797-5456-4bbe-be94-fbf466b137b7',\n",
       "  'pricingTransparencyLink': 'https://hcah-p-001-delivery.stylelabs.cloud/api/public/content/104f769cd7eb4356920a1e3240826337?v=487cb8b4'},\n",
       " {'locationName': 'Capital Hospital',\n",
       "  'disclaimerId': '5313b797-5456-4bbe-be94-fbf466b137b7',\n",
       "  'pricingTransparencyLink': 'https://hcah-p-001-delivery.stylelabs.cloud/api/public/content/faa85f0c2724465d9612036e147ab4c7?v=4419df57'},\n",
       " {'locationName': 'Citrus Hospital',\n",
       "  'disclaimerId': '5313b797-5456-4bbe-be94-fbf466b137b7',\n",
       "  'pricingTransparencyLink': 'https://hcah-p-001-delivery.stylelabs.cloud/api/public/content/ebedfbb42cb24850ad59ef36716c4b13?v=b94cfcf0'},\n",
       " {'locationName': 'Englewood Hospital',\n",
       "  'disclaimerId': '5313b797-5456-4bbe-be94-fbf466b137b7',\n",
       "  'pricingTransparencyLink': 'https://hcah-p-001-delivery.stylelabs.cloud/api/public/content/4aa4e1a17a24449796c06d82448d5659?v=16af5ef6'},\n",
       " {'locationName': 'Fawcett Hospital',\n",
       "  'disclaimerId': '5313b797-5456-4bbe-be94-fbf466b137b7',\n",
       "  'pricingTransparencyLink': 'https://hcah-p-001-delivery.stylelabs.cloud/api/public/content/2bd4cf2f19a24422ad6a151b36e89fd7?v=88d75109'},\n",
       " {'locationName': 'Fort Walton-Destin Hospital',\n",
       "  'disclaimerId': '5313b797-5456-4bbe-be94-fbf466b137b7',\n",
       "  'pricingTransparencyLink': 'https://hcah-p-001-delivery.stylelabs.cloud/api/public/content/098806a74fcb46f19d1aa8e97db78345?v=81dbdb00'},\n",
       " {'locationName': 'Gulf Coast Hospital',\n",
       "  'disclaimerId': '5313b797-5456-4bbe-be94-fbf466b137b7',\n",
       "  'pricingTransparencyLink': 'https://hcah-p-001-delivery.stylelabs.cloud/api/public/content/f5ef8aff898c4a17a411c9de0fa8c566?v=a731cb60'},\n",
       " {'locationName': 'Highlands Hospital',\n",
       "  'disclaimerId': '5313b797-5456-4bbe-be94-fbf466b137b7',\n",
       "  'pricingTransparencyLink': 'https://hcah-p-001-delivery.stylelabs.cloud/api/public/content/c614ead01584475c80e9e60b6c8e9854?v=00325acd'},\n",
       " {'locationName': 'JFK Hospital',\n",
       "  'disclaimerId': '7265234b-35ea-422f-a7ce-278db1df942f',\n",
       "  'pricingTransparencyLink': 'https://hcah-p-001-delivery.stylelabs.cloud/api/public/content/c140171eeb4c4e6c94e8ee1b7e6fd4be?v=ed51fc20'},\n",
       " {'locationName': 'JFK North Hospital',\n",
       "  'disclaimerId': '5313b797-5456-4bbe-be94-fbf466b137b7',\n",
       "  'pricingTransparencyLink': 'https://hcah-p-001-delivery.stylelabs.cloud/api/public/content/22f4ec35ee7944ff8e9b0cbe27dd23c5?v=a904b69e'},\n",
       " {'locationName': 'Kendall Hospital',\n",
       "  'disclaimerId': '5313b797-5456-4bbe-be94-fbf466b137b7',\n",
       "  'pricingTransparencyLink': 'https://hcah-p-001-delivery.stylelabs.cloud/api/public/content/4817adc983d04317b99a14fdca0b156b?v=d6b928b1'},\n",
       " {'locationName': 'Lake City Hospital',\n",
       "  'disclaimerId': '7265234b-35ea-422f-a7ce-278db1df942f',\n",
       "  'pricingTransparencyLink': 'https://hcah-p-001-delivery.stylelabs.cloud/api/public/content/7951b4bb5b26436e9f732b88a7a0a1ea?v=a24230b7'},\n",
       " {'locationName': 'Lake Monroe Hospital',\n",
       "  'disclaimerId': '5313b797-5456-4bbe-be94-fbf466b137b7',\n",
       "  'pricingTransparencyLink': 'https://hcah-p-001-delivery.stylelabs.cloud/api/public/content/6d860cbc5d9447bca812ae91b23aec74?v=80d69748'},\n",
       " {'locationName': 'Largo Hospital',\n",
       "  'disclaimerId': '5313b797-5456-4bbe-be94-fbf466b137b7',\n",
       "  'pricingTransparencyLink': 'https://hcah-p-001-delivery.stylelabs.cloud/api/public/content/e95ccad6d22a45b5b196ca692c11428f?v=38431377'},\n",
       " {'locationName': 'Lawnwood Hospital',\n",
       "  'disclaimerId': '5313b797-5456-4bbe-be94-fbf466b137b7',\n",
       "  'pricingTransparencyLink': 'https://hcah-p-001-delivery.stylelabs.cloud/api/public/content/91297105ef81442fbc005e9218f9ee47?v=208267dc'},\n",
       " {'locationName': 'Memorial Hospital',\n",
       "  'disclaimerId': '5313b797-5456-4bbe-be94-fbf466b137b7',\n",
       "  'pricingTransparencyLink': 'https://hcah-p-001-delivery.stylelabs.cloud/api/public/content/b8def567d0484b488abf5339b6a7cc85?v=8ae155f1'},\n",
       " {'locationName': 'Mercy Hospital',\n",
       "  'disclaimerId': '5313b797-5456-4bbe-be94-fbf466b137b7',\n",
       "  'pricingTransparencyLink': 'https://hcah-p-001-delivery.stylelabs.cloud/api/public/content/a2e8231fc2444e6b81dd8275c3aad6e4?v=c43a0344'},\n",
       " {'locationName': 'North Florida Hospital',\n",
       "  'disclaimerId': '5313b797-5456-4bbe-be94-fbf466b137b7',\n",
       "  'pricingTransparencyLink': 'https://hcah-p-001-delivery.stylelabs.cloud/api/public/content/c5963e36e1d74324a4cee2a59f91a1d4?v=31ffe788'},\n",
       " {'locationName': 'Northside Hospital',\n",
       "  'disclaimerId': '5313b797-5456-4bbe-be94-fbf466b137b7',\n",
       "  'pricingTransparencyLink': 'https://hcah-p-001-delivery.stylelabs.cloud/api/public/content/0bbc21f5e2ba438c9e5051fc80e9e375?v=8a0859d8'},\n",
       " {'locationName': 'Northwest Hospital',\n",
       "  'disclaimerId': '5313b797-5456-4bbe-be94-fbf466b137b7',\n",
       "  'pricingTransparencyLink': 'https://hcah-p-001-delivery.stylelabs.cloud/api/public/content/596af07b34214dc497ee5d1be2c28919?v=5cd127f7'},\n",
       " {'locationName': 'Oak Hill Hospital',\n",
       "  'disclaimerId': '5313b797-5456-4bbe-be94-fbf466b137b7',\n",
       "  'pricingTransparencyLink': 'https://hcah-p-001-delivery.stylelabs.cloud/api/public/content/f64a2e813acf448bae9870289e305ef1?v=7222552b'},\n",
       " {'locationName': 'Ocala Hospital',\n",
       "  'disclaimerId': '5313b797-5456-4bbe-be94-fbf466b137b7',\n",
       "  'pricingTransparencyLink': 'https://hcah-p-001-delivery.stylelabs.cloud/api/public/content/24ef9e51ecd941489e85dc963b58dee5?v=def3843b'},\n",
       " {'locationName': 'Orange Park Hospital',\n",
       "  'disclaimerId': '5313b797-5456-4bbe-be94-fbf466b137b7',\n",
       "  'pricingTransparencyLink': 'https://hcah-p-001-delivery.stylelabs.cloud/api/public/content/f1726aeb9c7448219e868c16eeeb960c?v=fc8b9e72'},\n",
       " {'locationName': 'Osceola Hospital',\n",
       "  'disclaimerId': '7265234b-35ea-422f-a7ce-278db1df942f',\n",
       "  'pricingTransparencyLink': 'https://hcah-p-001-delivery.stylelabs.cloud/api/public/content/575822e12ff7458b8ce1cfe9ce351d81?v=94e29c1f'},\n",
       " {'locationName': 'Oviedo Medical Center',\n",
       "  'disclaimerId': '5313b797-5456-4bbe-be94-fbf466b137b7',\n",
       "  'pricingTransparencyLink': 'https://hcah-p-001-delivery.stylelabs.cloud/api/public/content/cb1ff328b2d1449fabb88d9df04df6e0?v=d9ee8baa'},\n",
       " {'locationName': 'Palms West Hospital',\n",
       "  'disclaimerId': '5313b797-5456-4bbe-be94-fbf466b137b7',\n",
       "  'pricingTransparencyLink': 'https://hcah-p-001-delivery.stylelabs.cloud/api/public/content/b5c5c29020da4fa6a099eb75840416cf?v=60c3d019'},\n",
       " {'locationName': 'Pasadena Hospital',\n",
       "  'disclaimerId': '5313b797-5456-4bbe-be94-fbf466b137b7',\n",
       "  'pricingTransparencyLink': 'https://hcah-p-001-delivery.stylelabs.cloud/api/public/content/5603784e2ab143cfadf996418f937df6?v=652c8e96'},\n",
       " {'locationName': 'Poinciana Hospital',\n",
       "  'disclaimerId': '5313b797-5456-4bbe-be94-fbf466b137b7',\n",
       "  'pricingTransparencyLink': 'https://hcah-p-001-delivery.stylelabs.cloud/api/public/content/c51ac506c58a4c2b80a2a0d3acda03f3?v=453e50ff'},\n",
       " {'locationName': 'Putnam Hospital',\n",
       "  'disclaimerId': '5313b797-5456-4bbe-be94-fbf466b137b7',\n",
       "  'pricingTransparencyLink': 'https://hcah-p-001-delivery.stylelabs.cloud/api/public/content/b5cd72a99c81483286a702ccbd31565a?v=e95394ac'},\n",
       " {'locationName': 'Raulerson Hospital',\n",
       "  'disclaimerId': '5313b797-5456-4bbe-be94-fbf466b137b7',\n",
       "  'pricingTransparencyLink': 'https://hcah-p-001-delivery.stylelabs.cloud/api/public/content/ef3512ad841444648eb71df6cbd601b9?v=2e4c0c3e'},\n",
       " {'locationName': 'Sarasota Doctors Hospital',\n",
       "  'disclaimerId': '7265234b-35ea-422f-a7ce-278db1df942f',\n",
       "  'pricingTransparencyLink': 'https://hcah-p-001-delivery.stylelabs.cloud/api/public/content/12b5068390ca4f169634418b5f49c356?v=28ffceb1'},\n",
       " {'locationName': 'South Shore Hospital',\n",
       "  'disclaimerId': '7265234b-35ea-422f-a7ce-278db1df942f',\n",
       "  'pricingTransparencyLink': 'https://hcah-p-001-delivery.stylelabs.cloud/api/public/content/a8dde24a40824f04babc42e47b575244?v=0fda8f0f'},\n",
       " {'locationName': 'South Tampa Hospital',\n",
       "  'disclaimerId': '5313b797-5456-4bbe-be94-fbf466b137b7',\n",
       "  'pricingTransparencyLink': 'https://hcah-p-001-delivery.stylelabs.cloud/api/public/content/10044a2777ed4cdf881b0820c73ff490?v=5134f2a0'},\n",
       " {'locationName': 'St. Lucie Hospital',\n",
       "  'disclaimerId': '5313b797-5456-4bbe-be94-fbf466b137b7',\n",
       "  'pricingTransparencyLink': 'https://hcah-p-001-delivery.stylelabs.cloud/api/public/content/a21ca96aaff147a48c5b7809628baeeb?v=bddb7682'},\n",
       " {'locationName': 'St. Petersburg Hospital',\n",
       "  'disclaimerId': '5313b797-5456-4bbe-be94-fbf466b137b7',\n",
       "  'pricingTransparencyLink': 'https://hcah-p-001-delivery.stylelabs.cloud/api/public/content/fbe33fed11644563b799dca37e0ce292?v=efc8e9cf'},\n",
       " {'locationName': 'Trinity Hospital',\n",
       "  'disclaimerId': '7265234b-35ea-422f-a7ce-278db1df942f',\n",
       "  'pricingTransparencyLink': 'https://hcah-p-001-delivery.stylelabs.cloud/api/public/content/0881e6aa664642608317c9ea71ed121a?v=024b52c9'},\n",
       " {'locationName': 'Twin Cities Hospital',\n",
       "  'disclaimerId': '5313b797-5456-4bbe-be94-fbf466b137b7',\n",
       "  'pricingTransparencyLink': 'https://hcah-p-001-delivery.stylelabs.cloud/api/public/content/9a096bfe7d86467baa5fdb23d059ca45?v=32977e46'},\n",
       " {'locationName': 'UCF Lake Nona Hospital',\n",
       "  'disclaimerId': '5313b797-5456-4bbe-be94-fbf466b137b7',\n",
       "  'pricingTransparencyLink': 'https://hcah-p-001-delivery.stylelabs.cloud/api/public/content/375bd9753ac54137866e7b2abcb8bac4?v=151bebd5'},\n",
       " {'locationName': 'University Hospital',\n",
       "  'disclaimerId': '5313b797-5456-4bbe-be94-fbf466b137b7',\n",
       "  'pricingTransparencyLink': 'https://hcah-p-001-delivery.stylelabs.cloud/api/public/content/6579ff4598e04fe98b87075245a4482b?v=d49f69f7'},\n",
       " {'locationName': 'West Hospital',\n",
       "  'disclaimerId': '5313b797-5456-4bbe-be94-fbf466b137b7',\n",
       "  'pricingTransparencyLink': 'https://hcah-p-001-delivery.stylelabs.cloud/api/public/content/8a57dec7930b405eb9926cab66e23fb4?v=d166ebb7'},\n",
       " {'locationName': 'West Tampa Hospital',\n",
       "  'disclaimerId': '5313b797-5456-4bbe-be94-fbf466b137b7',\n",
       "  'pricingTransparencyLink': 'https://hcah-p-001-delivery.stylelabs.cloud/api/public/content/f4260dd6e2b84e30b442a74f8218a245?v=3000fb33'},\n",
       " {'locationName': 'Westside Hospital',\n",
       "  'disclaimerId': '5313b797-5456-4bbe-be94-fbf466b137b7',\n",
       "  'pricingTransparencyLink': 'https://hcah-p-001-delivery.stylelabs.cloud/api/public/content/67e65b00b6944ddcb1e88775e4579fc9?v=ad8f74d9'},\n",
       " {'locationName': 'Woodmont Hospital',\n",
       "  'disclaimerId': '5313b797-5456-4bbe-be94-fbf466b137b7',\n",
       "  'pricingTransparencyLink': 'https://hcah-p-001-delivery.stylelabs.cloud/api/public/content/aad9cc1466544664ad2912dba4785237?v=5cfeb9da'}]"
      ]
     },
     "execution_count": 34,
     "metadata": {},
     "output_type": "execute_result"
    }
   ],
   "source": [
    "tree = html.fromstring(resp.text)\n",
    "json_str = tree.xpath('//script[@id=\"__JSS_STATE__\"]/text()')[0]\n",
    "json_dict = json.loads(json_str)\n",
    "facilities = json_dict.get(\n",
    "    'sitecore').get(\n",
    "    'route').get(\n",
    "    'placeholders').get(\n",
    "    'body')[0].get(\n",
    "    'placeholders').get(\n",
    "    'col-1')[-1].get(\n",
    "    'placeholders').get(\n",
    "    'section')[-1].get(\n",
    "    'fields').get(\n",
    "    'facilities')\n",
    "\n",
    "facilities"
   ]
  },
  {
   "cell_type": "code",
   "execution_count": 37,
   "id": "6263491c-ac13-4f4f-a45a-062b8440f5a3",
   "metadata": {},
   "outputs": [],
   "source": [
    "ccn = \"100131\"\n",
    "url = \"https://hcah-p-001-delivery.stylelabs.cloud/api/public/content/d5f6d5de8cc74f49b8df31456742e141?v=dda11690\""
   ]
  },
  {
   "cell_type": "code",
   "execution_count": 41,
   "id": "8177f5c6-56a0-47fd-b510-54ee923a9c7b",
   "metadata": {},
   "outputs": [
    {
     "data": {
      "text/plain": [
       "'752379007_hca-florida-aventura-hospital_standardcharges.csv'"
      ]
     },
     "execution_count": 41,
     "metadata": {},
     "output_type": "execute_result"
    }
   ],
   "source": [
    "resp0 = requests.head(url)\n",
    "content_disposition = resp0.headers.get('Content-Disposition')\n",
    "filename = content_disposition.split(\"''\")[-1]\n",
    "filename"
   ]
  },
  {
   "cell_type": "code",
   "execution_count": 43,
   "id": "0dc130b7-0543-49f7-b1e0-cbfa48f40b13",
   "metadata": {},
   "outputs": [
    {
     "data": {
      "text/plain": [
       "'75-2379007'"
      ]
     },
     "execution_count": 43,
     "metadata": {},
     "output_type": "execute_result"
    }
   ],
   "source": [
    "ein = derive_ein_from_filename(filename)\n",
    "ein"
   ]
  },
  {
   "cell_type": "code",
   "execution_count": 44,
   "id": "041b585f-637a-4820-987c-f27fb8354b44",
   "metadata": {},
   "outputs": [
    {
     "name": "stderr",
     "output_type": "stream",
     "text": [
      "--2023-06-11 12:40:27--  https://hcah-p-001-delivery.stylelabs.cloud/api/public/content/d5f6d5de8cc74f49b8df31456742e141?v=dda11690\n",
      "Resolving hcah-p-001-delivery.stylelabs.cloud (hcah-p-001-delivery.stylelabs.cloud)... 104.18.7.237, 104.18.6.237, 2606:4700::6812:7ed, ...\n",
      "Connecting to hcah-p-001-delivery.stylelabs.cloud (hcah-p-001-delivery.stylelabs.cloud)|104.18.7.237|:443... connected.\n",
      "HTTP request sent, awaiting response... 200 OK\n",
      "Length: 2101440 (2.0M) [text/csv]\n",
      "Saving to: ‘752379007_hca-florida-aventura-hospital_standardcharges.csv’\n",
      "\n",
      "     0K .......... .......... .......... .......... ..........  2% 23.6M 0s\n",
      "    50K .......... .......... .......... .......... ..........  4% 23.2M 0s\n",
      "   100K .......... .......... .......... .......... ..........  7% 84.3M 0s\n",
      "   150K .......... .......... .......... .......... ..........  9% 75.2M 0s\n",
      "   200K .......... .......... .......... .......... .......... 12% 9.11M 0s\n",
      "   250K .......... .......... .......... .......... .......... 14% 17.3M 0s\n",
      "   300K .......... .......... .......... .......... .......... 17%  165M 0s\n",
      "   350K .......... .......... .......... .......... .......... 19%  175M 0s\n",
      "   400K .......... .......... .......... .......... .......... 21%  206M 0s\n",
      "   450K .......... .......... .......... .......... .......... 24% 85.2M 0s\n",
      "   500K .......... .......... .......... .......... .......... 26% 69.6M 0s\n",
      "   550K .......... .......... .......... .......... .......... 29% 70.6M 0s\n",
      "   600K .......... .......... .......... .......... .......... 31% 74.2M 0s\n",
      "   650K .......... .......... .......... .......... .......... 34% 76.1M 0s\n",
      "   700K .......... .......... .......... .......... .......... 36%  182M 0s\n",
      "   750K .......... .......... .......... .......... .......... 38% 80.1M 0s\n",
      "   800K .......... .......... .......... .......... .......... 41%  172M 0s\n",
      "   850K .......... .......... .......... .......... .......... 43%  115M 0s\n",
      "   900K .......... .......... .......... .......... .......... 46%  178M 0s\n",
      "   950K .......... .......... .......... .......... .......... 48%  184M 0s\n",
      "  1000K .......... .......... .......... .......... .......... 51%  182M 0s\n",
      "  1050K .......... .......... .......... .......... .......... 53%  150M 0s\n",
      "  1100K .......... .......... .......... .......... .......... 56%  189M 0s\n",
      "  1150K .......... .......... .......... .......... .......... 58%  187M 0s\n",
      "  1200K .......... .......... .......... .......... .......... 60%  179M 0s\n",
      "  1250K .......... .......... .......... .......... .......... 63%  139M 0s\n",
      "  1300K .......... .......... .......... .......... .......... 65%  173M 0s\n",
      "  1350K .......... .......... .......... .......... .......... 68%  182M 0s\n",
      "  1400K .......... .......... .......... .......... .......... 70%  214M 0s\n",
      "  1450K .......... .......... .......... .......... .......... 73%  176M 0s\n",
      "  1500K .......... .......... .......... .......... .......... 75%  164M 0s\n",
      "  1550K .......... .......... .......... .......... .......... 77%  144M 0s\n",
      "  1600K .......... .......... .......... .......... .......... 80%  206M 0s\n",
      "  1650K .......... .......... .......... .......... .......... 82%  175M 0s\n",
      "  1700K .......... .......... .......... .......... .......... 85%  166M 0s\n",
      "  1750K .......... .......... .......... .......... .......... 87%  205M 0s\n",
      "  1800K .......... .......... .......... .......... .......... 90%  208M 0s\n",
      "  1850K .......... .......... .......... .......... .......... 92%  169M 0s\n",
      "  1900K .......... .......... .......... .......... .......... 95%  186M 0s\n",
      "  1950K .......... .......... .......... .......... .......... 97%  184M 0s\n",
      "  2000K .......... .......... .......... .......... .......... 99%  182M 0s\n",
      "  2050K ..                                                    100% 38.4M=0.03s\n",
      "\n",
      "Last-modified header invalid -- time-stamp ignored.\n",
      "2023-06-11 12:40:27 (78.1 MB/s) - ‘752379007_hca-florida-aventura-hospital_standardcharges.csv’ saved [2101440/2101440]\n",
      "\n"
     ]
    },
    {
     "data": {
      "text/plain": [
       "CompletedProcess(args=['wget', '--no-clobber', 'https://hcah-p-001-delivery.stylelabs.cloud/api/public/content/d5f6d5de8cc74f49b8df31456742e141?v=dda11690', '-O', '752379007_hca-florida-aventura-hospital_standardcharges.csv'], returncode=0)"
      ]
     },
     "execution_count": 44,
     "metadata": {},
     "output_type": "execute_result"
    }
   ],
   "source": [
    "subprocess.run([\"wget\", \"--no-clobber\", url, \"-O\", filename])"
   ]
  },
  {
   "cell_type": "code",
   "execution_count": null,
   "id": "af1584f0-d834-45ce-b01b-28bd4a9331da",
   "metadata": {},
   "outputs": [],
   "source": []
  }
 ],
 "metadata": {
  "kernelspec": {
   "display_name": "Python 3 (ipykernel)",
   "language": "python",
   "name": "python3"
  },
  "language_info": {
   "codemirror_mode": {
    "name": "ipython",
    "version": 3
   },
   "file_extension": ".py",
   "mimetype": "text/x-python",
   "name": "python",
   "nbconvert_exporter": "python",
   "pygments_lexer": "ipython3",
   "version": "3.9.2"
  }
 },
 "nbformat": 4,
 "nbformat_minor": 5
}
