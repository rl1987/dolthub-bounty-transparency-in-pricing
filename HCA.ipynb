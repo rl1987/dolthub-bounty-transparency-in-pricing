{
 "cells": [
  {
   "cell_type": "code",
   "execution_count": null,
   "id": "9a94eba4-d7e6-468a-8e84-01909c658e5c",
   "metadata": {},
   "outputs": [],
   "source": [
    "import pandas as pd"
   ]
  },
  {
   "cell_type": "code",
   "execution_count": null,
   "id": "21e8064c-29c8-4023-a4dc-5ed0c046c766",
   "metadata": {},
   "outputs": [],
   "source": [
    "TARGET_COLUMNS = [\n",
    "    'hospital_id',\n",
    "    #'row_id',\n",
    "    'line_type',\n",
    "    'description',\n",
    "    'rev_code',\n",
    "    'local_code',\n",
    "    'code',\n",
    "    'ms_drg',\n",
    "    'apr_drg',\n",
    "    'eapg',\n",
    "    'hcpcs_cpt',\n",
    "    'modifiers',\n",
    "    'alt_hcpcs_cpt',\n",
    "    'thru',\n",
    "    'apc',\n",
    "    'icd',\n",
    "    'ndc',\n",
    "    'drug_hcpcs_multiplier',\n",
    "    'drug_quantity',\n",
    "    'drug_unit_of_measurement',\n",
    "    'drug_type_of_measurement',\n",
    "    'billing_class',\n",
    "    'setting',\n",
    "    'payer_category',\n",
    "    'payer_name',\n",
    "    'plan_name',\n",
    "    'standard_charge',\n",
    "    'standard_charge_percent',\n",
    "    'contracting_method',\n",
    "    'additional_generic_notes',\n",
    "    'additional_payer_specific_notes'\n",
    "]"
   ]
  }
 ],
 "metadata": {
  "kernelspec": {
   "display_name": "Python 3 (ipykernel)",
   "language": "python",
   "name": "python3"
  },
  "language_info": {
   "codemirror_mode": {
    "name": "ipython",
    "version": 3
   },
   "file_extension": ".py",
   "mimetype": "text/x-python",
   "name": "python",
   "nbconvert_exporter": "python",
   "pygments_lexer": "ipython3",
   "version": "3.9.2"
  }
 },
 "nbformat": 4,
 "nbformat_minor": 5
}
