{
 "cells": [
  {
   "cell_type": "code",
   "execution_count": 1,
   "id": "3f753d80-aaf7-4098-b26d-5307fbf8854b",
   "metadata": {},
   "outputs": [],
   "source": [
    "import subprocess\n",
    "\n",
    "import pandas as pd\n",
    "\n",
    "from helpers import cleanup_dollar_value"
   ]
  },
  {
   "cell_type": "code",
   "execution_count": 2,
   "id": "ec2e623a-a6a8-459c-9dfb-7c68e839ee3c",
   "metadata": {},
   "outputs": [],
   "source": [
    "TARGET_COLUMNS = [\n",
    "    'hospital_id',\n",
    "    #'row_id',\n",
    "    'line_type',\n",
    "    'description',\n",
    "    'rev_code',\n",
    "    'local_code',\n",
    "    'code',\n",
    "    'ms_drg',\n",
    "    'apr_drg',\n",
    "    'eapg',\n",
    "    'hcpcs_cpt',\n",
    "    'modifiers',\n",
    "    'alt_hcpcs_cpt',\n",
    "    'thru',\n",
    "    'apc',\n",
    "    'icd',\n",
    "    'ndc',\n",
    "    'drug_hcpcs_multiplier',\n",
    "    'drug_quantity',\n",
    "    'drug_unit_of_measurement',\n",
    "    'drug_type_of_measurement',\n",
    "    'billing_class',\n",
    "    'setting',\n",
    "    'payer_category',\n",
    "    'payer_name',\n",
    "    'plan_name',\n",
    "    'standard_charge',\n",
    "    'standard_charge_percent',\n",
    "    'contracting_method',\n",
    "    'additional_generic_notes',\n",
    "    'additional_payer_specific_notes'\n",
    "]"
   ]
  },
  {
   "cell_type": "code",
   "execution_count": 5,
   "id": "87a88ef6-7602-4f87-a796-3782b3b3ca73",
   "metadata": {},
   "outputs": [
    {
     "data": {
      "text/plain": [
       "'23-1352166'"
      ]
     },
     "execution_count": 5,
     "metadata": {},
     "output_type": "execute_result"
    }
   ],
   "source": [
    "ccn = \"393303\"\n",
    "url = \"https://media.chop.edu/data/files/finance/23-1352166_ChildrensHospitalofPhiladelphia_standardcharges.csv\"\n",
    "filename = url.split(\"/\")[-1].replace(\"%20\", \" \")\n",
    "ein = filename.split(\"_\")[0]\n",
    "ein"
   ]
  },
  {
   "cell_type": "code",
   "execution_count": 4,
   "id": "adfe06b7-f5bd-409f-be76-6f68743e9ef8",
   "metadata": {},
   "outputs": [],
   "source": [
    "# https://www.chop.edu/centers-programs/billing-and-insurance/understanding-hospital-charges"
   ]
  }
 ],
 "metadata": {
  "kernelspec": {
   "display_name": "Python 3 (ipykernel)",
   "language": "python",
   "name": "python3"
  },
  "language_info": {
   "codemirror_mode": {
    "name": "ipython",
    "version": 3
   },
   "file_extension": ".py",
   "mimetype": "text/x-python",
   "name": "python",
   "nbconvert_exporter": "python",
   "pygments_lexer": "ipython3",
   "version": "3.9.2"
  }
 },
 "nbformat": 4,
 "nbformat_minor": 5
}
