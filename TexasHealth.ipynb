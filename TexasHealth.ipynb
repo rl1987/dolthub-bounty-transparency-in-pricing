{
 "cells": [
  {
   "cell_type": "code",
   "execution_count": null,
   "id": "6bb3f1e8-8f6b-430c-b0ef-e7d8c56813ae",
   "metadata": {},
   "outputs": [],
   "source": [
    "import subprocess\n",
    "\n",
    "import pandas as pd"
   ]
  },
  {
   "cell_type": "code",
   "execution_count": null,
   "id": "4bd6c230-3a16-476e-8025-d60e7363c532",
   "metadata": {},
   "outputs": [],
   "source": [
    "TARGET_COLUMNS = [\n",
    "    'hospital_id',\n",
    "    #'row_id',\n",
    "    'line_type',\n",
    "    'description',\n",
    "    'rev_code',\n",
    "    'local_code',\n",
    "    'code',\n",
    "    'ms_drg',\n",
    "    'apr_drg',\n",
    "    'eapg',\n",
    "    'hcpcs_cpt',\n",
    "    'modifiers',\n",
    "    'alt_hcpcs_cpt',\n",
    "    'thru',\n",
    "    'apc',\n",
    "    'icd',\n",
    "    'ndc',\n",
    "    'drug_hcpcs_multiplier',\n",
    "    'drug_quantity',\n",
    "    'drug_unit_of_measurement',\n",
    "    'drug_type_of_measurement',\n",
    "    'billing_class',\n",
    "    'setting',\n",
    "    'payer_category',\n",
    "    'payer_name',\n",
    "    'plan_name',\n",
    "    'standard_charge',\n",
    "    'standard_charge_percent',\n",
    "    'contracting_method',\n",
    "    'additional_generic_notes',\n",
    "    'additional_payer_specific_notes'\n",
    "]"
   ]
  },
  {
   "cell_type": "code",
   "execution_count": null,
   "id": "c8f532f3-b8b6-4d9e-a31a-ec715e5146aa",
   "metadata": {},
   "outputs": [],
   "source": [
    "ccn = \"310074\"\n",
    "url = \"https://www.rwjbh.org/documents/billing/mrf/222783298_jersey-city-medical-center_standardcharges.csv\"\n",
    "filename = url.split(\"/\")[-1]\n",
    "ein = filename.split(\"_\")[0]\n",
    "ein = ein[:2] + \"-\" + ein[2:]\n",
    "ein"
   ]
  }
 ],
 "metadata": {
  "kernelspec": {
   "display_name": "Python 3 (ipykernel)",
   "language": "python",
   "name": "python3"
  },
  "language_info": {
   "codemirror_mode": {
    "name": "ipython",
    "version": 3
   },
   "file_extension": ".py",
   "mimetype": "text/x-python",
   "name": "python",
   "nbconvert_exporter": "python",
   "pygments_lexer": "ipython3",
   "version": "3.9.2"
  }
 },
 "nbformat": 4,
 "nbformat_minor": 5
}
