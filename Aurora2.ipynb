{
 "cells": [
  {
   "cell_type": "code",
   "execution_count": null,
   "id": "4e41a983-33fd-4505-ba53-4ee3081d97bd",
   "metadata": {},
   "outputs": [],
   "source": [
    "import subprocess\n",
    "from datetime import date\n",
    "\n",
    "import pandas as pd"
   ]
  }
 ],
 "metadata": {
  "kernelspec": {
   "display_name": "Python 3 (ipykernel)",
   "language": "python",
   "name": "python3"
  },
  "language_info": {
   "codemirror_mode": {
    "name": "ipython",
    "version": 3
   },
   "file_extension": ".py",
   "mimetype": "text/x-python",
   "name": "python",
   "nbconvert_exporter": "python",
   "pygments_lexer": "ipython3",
   "version": "3.9.2"
  }
 },
 "nbformat": 4,
 "nbformat_minor": 5
}
